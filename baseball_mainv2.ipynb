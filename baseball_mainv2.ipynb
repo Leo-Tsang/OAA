{
 "cells": [
  {
   "cell_type": "code",
   "execution_count": 1,
   "metadata": {},
   "outputs": [],
   "source": [
    "import pandas as pd\n",
    "import math\n",
    "import numpy as np\n",
    "from scipy.stats import norm\n",
    "import matplotlib.pyplot as plt\n",
    "import seaborn as sns"
   ]
  },
  {
   "cell_type": "code",
   "execution_count": 13,
   "metadata": {},
   "outputs": [],
   "source": [
    "#function to determine where the closest field_putout would be, which is why our SS decided to go for putout play\n",
    "#plug-in coordinates, it determines the distance of 2 closest preidentified points for our SS to tag for an out\n",
    "def closest_tag(x): \n",
    "    \n",
    "    min_dist = []\n",
    "    possible_options = [2, 2.5, 3, 3.5, 4, 4.5, 5, 5.5]\n",
    "    for i in possible_options:\n",
    "        min_dist.append(np.linalg.norm(x-field_coord[i]))\n",
    "    \n",
    "    min_dist = sorted(min_dist)\n",
    "    \n",
    "    return sum(min_dist[0:2]) / 2\n",
    "    \n",
    "#this function will calculate the prbability between the hitter vs. our SS\n",
    "def fieldvsbatt(x1,x2):\n",
    "    \n",
    "    u = x1-x2\n",
    "    \n",
    "    return norm.cdf(u/ (0.25*math.sqrt(2)))\n",
    "\n",
    "\n",
    "#this function returns the potential bounce velocity of the ball\n",
    "def bounce_velo(ev):\n",
    "    ev_ft = 1.46667 * ev\n",
    "    V = ev_ft * 0.546\n",
    "    return V\n",
    "\n",
    "\n",
    "def bounce_distance(ev):\n",
    "    \n",
    "    ev_ft = 1.46667 * ev\n",
    "    deg = 30 * math.pi / 180\n",
    "    V = ev_ft * 0.546 #coefficient of restititution of a baseball\n",
    "    Vy = ev_ft * math.sin(deg)\n",
    "    Vx = ev_ft * math.cos(deg)\n",
    "    \n",
    "    return (2 * Vx * Vy) / 32.1741 #returns the measurement in ft\n",
    "    \n",
    "#this function will be used to calculate the new coordinate of our player based off the hang_time\n",
    "def new_coord(a,b,d2): #include points a and b as a np.array((x,y)), a & b are two points\n",
    "    d = np.linalg.norm(a-b)\n",
    "    c_x = a[0] - (d2*(a[0]-b[1]))/d\n",
    "    c_y = a[1] - (d2*(a[1]-b[1]))/d\n",
    "    return np.array((c_x,c_y))\n",
    "\n"
   ]
  },
  {
   "cell_type": "code",
   "execution_count": 3,
   "metadata": {},
   "outputs": [],
   "source": [
    "#read our dataset into pandas dataframe\n",
    "df = pd.read_excel('shortstopdefense.xlsx')"
   ]
  },
  {
   "cell_type": "code",
   "execution_count": 4,
   "metadata": {},
   "outputs": [],
   "source": [
    "#data cleaning\n",
    "#check for NA or null Values\n",
    "\n",
    "df.isnull().sum().sum()\n",
    "\n",
    "#there is let's drop them. Can't find anything if there's no data.\n",
    "df = df.dropna()\n",
    "df = df.reset_index()"
   ]
  },
  {
   "cell_type": "code",
   "execution_count": 5,
   "metadata": {},
   "outputs": [],
   "source": [
    "#look only at the ones fielded by the SS, since we're only looking at SS leaderboard\n",
    "df = df[df['fielded_pos']==6]\n",
    "df = df.reset_index()"
   ]
  },
  {
   "cell_type": "code",
   "execution_count": 6,
   "metadata": {},
   "outputs": [],
   "source": [
    "#combine the coordiantes to a column itself, so we can use numpy's distance formula for faster calculation\n",
    "\n",
    "df['ball_land_coord']=list(zip(df['landing_location_x'], df['landing_location_y']))\n",
    "df['player_coord']=list(zip(df['player_x'], df['player_y']))"
   ]
  },
  {
   "cell_type": "code",
   "execution_count": 7,
   "metadata": {},
   "outputs": [],
   "source": [
    "#Set the bases, and plates in coordinates, 1-Pithcer, 2-Home, 3-1st base, 4-2nd base, 5- 3rd base, 6-SS\n",
    "#this will come handy when we start calculating the distance and opportunity\n",
    "#since there's not one exact spot of SS coordiantes, we'll use the average of where they usually stand (ie. mean)\n",
    "#take the mid point from 2nd base to 3rd base as my coord for where my SS throws to 6th posistion (either 3rd base/pitcher covering)\n",
    "#we're going to also include midpoints to consider when the SS can tag the person out, or run to the nearby base whichever\n",
    "#is closer would be used\n",
    "\n",
    "second_base_coord = 127.28125 #127 3,3/8 inches\n",
    "pos_6 = [np.average(df['player_x']), np.average(df['player_y'])] #take the average posistion of where most SS usually stands\n",
    "field_coord = {1: [0,60.5], 2: [0,0], 2.5: [second_base_coord/4, second_base_coord/4],\n",
    "               3:[second_base_coord/2, second_base_coord/2], \n",
    "               3.5: [(0+second_base_coord/2)/2, (second_base_coord+second_base_coord/2)/2], \n",
    "               4: [0, second_base_coord], 4.5: [(0-second_base_coord/2)/2, (second_base_coord+second_base_coord/2)/2],\n",
    "               5: [-second_base_coord/2, second_base_coord/2], 5.5 : [-second_base_coord/4, second_base_coord/4],\n",
    "               6: pos_6 }"
   ]
  },
  {
   "cell_type": "code",
   "execution_count": 8,
   "metadata": {},
   "outputs": [],
   "source": [
    "#we need to dissect fielding_play to\n",
    "#this will be used to calculate the receiving end of our shortstop throw if he has any\n",
    "df['fieldingplay'] = df['fieldingplay'].astype(int)\n",
    "df['fieldingplay'] = df['fieldingplay'].astype(str)\n",
    "\n",
    "#create a list of the plays segrated by the integer, this way we can see where the SS is throwing the ball to.\n",
    "list_test = []\n",
    "for i in df['fieldingplay']:\n",
    "    list_test.append([int(d) for d in i])\n",
    "    \n",
    "df['field_play'] = list_test\n",
    "\n",
    "\n",
    "#the receiving end of SS fielded ball\n",
    "pos_passed = []\n",
    "for i in range(len(df)):\n",
    "    if len(df['field_play'][i]) == 1:\n",
    "        pos_passed.append(int(df['fielded_pos'][i]))\n",
    "    else:\n",
    "        pos_passed.append(int(df['field_play'][i][1]))\n",
    "\n",
    "df['ball_passed'] = pos_passed\n"
   ]
  },
  {
   "cell_type": "code",
   "execution_count": 9,
   "metadata": {},
   "outputs": [],
   "source": [
    "#calculate distance from player and first bounce\n",
    "df['player_ball_first_landed'] =np.sqrt((df['player_x'] - df['landing_location_x'])**2 + (df['player_y'] - df['landing_location_y'])**2) \n",
    "\n",
    "#bounce distance uses exit velocity and EOR to estimate the distance it can travel\n",
    "bounce_dist = []\n",
    "\n",
    "for i in range(len(df)):\n",
    "    bounce_dist.append(bounce_distance(df['launch_speed'][i])) #here we recall the function that we created earlier\n",
    "    \n",
    "df['bounce_distance'] = bounce_dist"
   ]
  },
  {
   "cell_type": "code",
   "execution_count": 31,
   "metadata": {},
   "outputs": [],
   "source": [
    "#incorproate hangtime to better detrmine intercept point\n",
    "distance_between_hang = []\n",
    "\n",
    "#the player travlled how much distance\n",
    "df['hang_time_travel'] = df['hang_time'] * 27\n",
    "\n",
    "player_new_coord = []\n",
    "player_catch = [] #determine if the player has caught the ball\n",
    "player_new_distance = []\n",
    "\n",
    "#find the new coordiantes, \n",
    "for i in range(len(df)):\n",
    "    a = np.array(df['player_coord'][i])\n",
    "    b = np.array(df['ball_land_coord'][i])\n",
    "    c = new_coord(a,b,df['hang_time_travel'][i]) #the potential coordinate of where the fielder ran to\n",
    "    \n",
    "    if df['hang_time_travel'][i] >= df['player_ball_first_landed'][i] : #player had enough time to cover the distance before ball landed\n",
    "        player_new_coord.append(b) #therefore he cuaght the ball, and this would be used as his intercept_point\n",
    "        player_catch.append(True)\n",
    "        player_new_distance.append(0) #therefore his distance is 0 from the ball\n",
    "    else:\n",
    "        player_new_coord.append(c)\n",
    "        player_catch.append(False)\n",
    "        player_new_distance.append(np.linalg.norm(c-b))\n",
    "        \n",
    "df['player_new_coord'] = player_new_coord\n",
    "df['player_catch'] = player_catch #boolean that tells us if the ball was caught, therefore intercept-time = hang_time\n",
    "df['player_new_distance'] = player_new_distance"
   ]
  },
  {
   "cell_type": "code",
   "execution_count": 43,
   "metadata": {},
   "outputs": [
    {
     "name": "stderr",
     "output_type": "stream",
     "text": [
      "/usr/local/anaconda3/lib/python3.7/site-packages/ipykernel_launcher.py:19: SettingWithCopyWarning: \n",
      "A value is trying to be set on a copy of a slice from a DataFrame\n",
      "\n",
      "See the caveats in the documentation: http://pandas.pydata.org/pandas-docs/stable/user_guide/indexing.html#returning-a-view-versus-a-copy\n",
      "/usr/local/anaconda3/lib/python3.7/site-packages/ipykernel_launcher.py:20: SettingWithCopyWarning: \n",
      "A value is trying to be set on a copy of a slice from a DataFrame\n",
      "\n",
      "See the caveats in the documentation: http://pandas.pydata.org/pandas-docs/stable/user_guide/indexing.html#returning-a-view-versus-a-copy\n"
     ]
    }
   ],
   "source": [
    "#intercept point, if the bounce distance is further than our current SS, we assume the midway point is our intercept coordinate\n",
    "#finding our intercept coordiantes\n",
    "\n",
    "intercept_coord = []\n",
    "#player_x_intercept = []\n",
    "#player_y_intercept = []\n",
    "df['player_x_intercept'] = bounce_dist\n",
    "df['player_y_intercept'] = bounce_dist\n",
    "for i in range(len(df)):\n",
    "    \n",
    "    a = np.array(df['player_new_coord'][i])\n",
    "    b = np.array(df['ball_land_coord'][i])\n",
    "    \n",
    "    if df['player_catch'][i] == True: #if it catch, then intercept point is just where the ball landed\n",
    "        intercept_coord.append(df['ball_land_coord'][i])\n",
    "    \n",
    "    elif df['bounce_distance'][i] >= df['player_new_distance'][i]: #if ball bounces further than where we're at,\n",
    "        #we'll take the midpoint as the intercept\n",
    "        df['player_x_intercept'][i] = (df['player_new_coord'][i][0]+df['landing_location_x'][i])/ 2\n",
    "        df['player_y_intercept'][i] = (df['player_new_coord'][i][1]+df['landing_location_y'][i])/ 2\n",
    "        intercept_coord.append((df['player_x_intercept'][i],df['player_y_intercept'][i]))\n",
    "        \n",
    "    else:\n",
    "        \n",
    "        #here we need assume the bounce shall continue, and add it the inital landing spot \n",
    "        intercept_coord.append(new_coord(a,b,df['bounce_distance'][i]))\n",
    "        \n",
    "#our new intercept coord\n",
    "df['intercept_coord'] = intercept_coord\n"
   ]
  },
  {
   "cell_type": "code",
   "execution_count": 59,
   "metadata": {},
   "outputs": [],
   "source": [
    "#Intercept Model\n",
    "#we are trying to find the distance between our fielder to intercept, and determine the time\n",
    "#our fielder to reach there, given the hang_time\n",
    "\n",
    "#find opportuntity distance\n",
    "opportunity_dist = []\n",
    "intercept_home = []\n",
    "for i in range(len(df)):\n",
    "    \n",
    "    a = np.array(df['player_new_coord'][i])\n",
    "    b = np.array(df['intercept_coord'][i])\n",
    "    \n",
    "    opportunity_dist.append(np.linalg.norm(a-b)) #where player meets the intercept point\n",
    "                            \n",
    "df['opportunity_distance'] = opportunity_dist\n",
    "                            \n",
    "#df['intercept_home'] = intercept_home\n",
    "df['opportunity_time'] = df['hang_time'] + df['opportunity_distance']/ 27"
   ]
  },
  {
   "cell_type": "code",
   "execution_count": 60,
   "metadata": {},
   "outputs": [],
   "source": [
    "#here we are calculating the distance of the ball to be thrown, or putout\n",
    "#and the time it requires.\n",
    "#assume: batter run-speed is 27 fps, throwing speed of our SS on avg is 132 fps\n",
    "#you need 3/4 of a second to throw the ball\n",
    "\n",
    "#SS time remaining\n",
    "play_distance = []\n",
    "play_time = []\n",
    "\n",
    "for i in range(len(df)):\n",
    "    #if df['ball_passed'][i] > 6:\n",
    "    ##default play is to first base, for an forceplay\n",
    "    #play_distance.append(np.linalg.norm(np.array(df['ball_land_coord'][i])-field_coord[3]))\n",
    "    a = np.array(df['intercept_coord'][i])\n",
    "    \n",
    "    if df['ball_passed'][i] < 6 and df['ball_passed'][i] != 3:\n",
    "        play_distance.append(np.linalg.norm(np.array(df['ball_land_coord'][i])-field_coord[df['ball_passed'][i]])) \n",
    "        play_time.append(play_distance[i]/ 132 + 0.75)\n",
    "    \n",
    "    elif df['ball_passed'][i] == 6 and df['fielded_scoring'][i] == 'f_putout':\n",
    "        #distance = closest_tag(df['ball_land_coord'][i])\n",
    "        play_distance.append(closest_tag(a))\n",
    "        play_time.append(play_distance[i]/27)\n",
    "    \n",
    "    else:\n",
    "        ##default play is to first base, for a forceplay\n",
    "        play_distance.append(np.linalg.norm(np.array(df['ball_land_coord'][i])-field_coord[3])) \n",
    "        play_time.append(play_distance[i]/132 +0.75)\n",
    "        \n",
    "df['play_distance'] = play_distance\n",
    "df['play_time'] = play_time"
   ]
  },
  {
   "cell_type": "code",
   "execution_count": 61,
   "metadata": {},
   "outputs": [],
   "source": [
    "##Runner time remaining\n",
    "df['runner_time'] = 90/ 27 - df['opportunity_time']"
   ]
  },
  {
   "cell_type": "code",
   "execution_count": 62,
   "metadata": {},
   "outputs": [
    {
     "data": {
      "text/plain": [
       "0.9887348147356712"
      ]
     },
     "execution_count": 62,
     "metadata": {},
     "output_type": "execute_result"
    }
   ],
   "source": [
    "fieldvsbatt(df['play_time'][0],df['runner_time'][0])"
   ]
  },
  {
   "cell_type": "code",
   "execution_count": 63,
   "metadata": {},
   "outputs": [],
   "source": [
    "#using our predefined function, we can compare the distributions\n",
    "\n",
    "OAA_odds = []\n",
    "\n",
    "for i in range(len(df)):\n",
    "    \n",
    "    if df['fielded_scoring'][i] == 'f_putout' or df['fielded_scoring'][i] == 'f_assist':\n",
    "        OAA_odds.append(fieldvsbatt(df['runner_time'][i],df['play_time'][i] * 1 * 0.975))\n",
    "    else:\n",
    "        OAA_odds.append((1-(fieldvsbatt(df['runner_time'][i],df['play_time'][i] * 1 * 0.975)))*-1)\n",
    "\n",
    "df['OAA'] = OAA_odds"
   ]
  },
  {
   "cell_type": "code",
   "execution_count": 65,
   "metadata": {},
   "outputs": [],
   "source": [
    "#let's get the aggreagate of our leaderboard\n",
    "df['opportunity'] = 1\n",
    "df_pivot = df.pivot_table(index='playerid', values=['opportunity', 'OAA'], aggfunc='sum')\n",
    "#sort our value\n",
    "result = df_pivot.sort_values(('OAA'), ascending=False).round()"
   ]
  },
  {
   "cell_type": "code",
   "execution_count": 66,
   "metadata": {},
   "outputs": [
    {
     "data": {
      "text/html": [
       "<div>\n",
       "<style scoped>\n",
       "    .dataframe tbody tr th:only-of-type {\n",
       "        vertical-align: middle;\n",
       "    }\n",
       "\n",
       "    .dataframe tbody tr th {\n",
       "        vertical-align: top;\n",
       "    }\n",
       "\n",
       "    .dataframe thead th {\n",
       "        text-align: right;\n",
       "    }\n",
       "</style>\n",
       "<table border=\"1\" class=\"dataframe\">\n",
       "  <thead>\n",
       "    <tr style=\"text-align: right;\">\n",
       "      <th></th>\n",
       "      <th>OAA</th>\n",
       "      <th>opportunity</th>\n",
       "    </tr>\n",
       "    <tr>\n",
       "      <th>playerid</th>\n",
       "      <th></th>\n",
       "      <th></th>\n",
       "    </tr>\n",
       "  </thead>\n",
       "  <tbody>\n",
       "    <tr>\n",
       "      <td>162393</td>\n",
       "      <td>29.0</td>\n",
       "      <td>148</td>\n",
       "    </tr>\n",
       "    <tr>\n",
       "      <td>162648</td>\n",
       "      <td>22.0</td>\n",
       "      <td>145</td>\n",
       "    </tr>\n",
       "    <tr>\n",
       "      <td>147431</td>\n",
       "      <td>22.0</td>\n",
       "      <td>154</td>\n",
       "    </tr>\n",
       "    <tr>\n",
       "      <td>2950</td>\n",
       "      <td>21.0</td>\n",
       "      <td>118</td>\n",
       "    </tr>\n",
       "    <tr>\n",
       "      <td>162066</td>\n",
       "      <td>20.0</td>\n",
       "      <td>176</td>\n",
       "    </tr>\n",
       "    <tr>\n",
       "      <td>...</td>\n",
       "      <td>...</td>\n",
       "      <td>...</td>\n",
       "    </tr>\n",
       "    <tr>\n",
       "      <td>7654</td>\n",
       "      <td>-1.0</td>\n",
       "      <td>4</td>\n",
       "    </tr>\n",
       "    <tr>\n",
       "      <td>189664</td>\n",
       "      <td>-1.0</td>\n",
       "      <td>72</td>\n",
       "    </tr>\n",
       "    <tr>\n",
       "      <td>171819</td>\n",
       "      <td>-1.0</td>\n",
       "      <td>12</td>\n",
       "    </tr>\n",
       "    <tr>\n",
       "      <td>187571</td>\n",
       "      <td>-2.0</td>\n",
       "      <td>2</td>\n",
       "    </tr>\n",
       "    <tr>\n",
       "      <td>6619</td>\n",
       "      <td>-2.0</td>\n",
       "      <td>38</td>\n",
       "    </tr>\n",
       "  </tbody>\n",
       "</table>\n",
       "<p>105 rows × 2 columns</p>\n",
       "</div>"
      ],
      "text/plain": [
       "           OAA  opportunity\n",
       "playerid                   \n",
       "162393    29.0          148\n",
       "162648    22.0          145\n",
       "147431    22.0          154\n",
       "2950      21.0          118\n",
       "162066    20.0          176\n",
       "...        ...          ...\n",
       "7654      -1.0            4\n",
       "189664    -1.0           72\n",
       "171819    -1.0           12\n",
       "187571    -2.0            2\n",
       "6619      -2.0           38\n",
       "\n",
       "[105 rows x 2 columns]"
      ]
     },
     "execution_count": 66,
     "metadata": {},
     "output_type": "execute_result"
    }
   ],
   "source": [
    "result"
   ]
  },
  {
   "cell_type": "code",
   "execution_count": 67,
   "metadata": {},
   "outputs": [],
   "source": [
    "#export our results\n",
    "result.to_csv('output.csv')"
   ]
  },
  {
   "cell_type": "code",
   "execution_count": 68,
   "metadata": {},
   "outputs": [],
   "source": [
    "df.to_excel('out_data.xlsx')"
   ]
  },
  {
   "cell_type": "code",
   "execution_count": 76,
   "metadata": {},
   "outputs": [
    {
     "data": {
      "text/plain": [
       "{1: [0, 60.5],\n",
       " 2: [0, 0],\n",
       " 2.5: [31.8203125, 31.8203125],\n",
       " 3: [63.640625, 63.640625],\n",
       " 3.5: [31.8203125, 95.4609375],\n",
       " 4: [0, 127.28125],\n",
       " 4.5: [-31.8203125, 95.4609375],\n",
       " 5: [-63.640625, 63.640625],\n",
       " 5.5: [-31.8203125, 31.8203125],\n",
       " 6: [-33.035291167549246, 141.01140661724213]}"
      ]
     },
     "execution_count": 76,
     "metadata": {},
     "output_type": "execute_result"
    }
   ],
   "source": [
    "field_coord"
   ]
  },
  {
   "cell_type": "code",
   "execution_count": 77,
   "metadata": {},
   "outputs": [],
   "source": [
    "bunt = df[df['is_bunt']==True]\n",
    "\n",
    "int_x = []\n",
    "int_y = []\n",
    "\n",
    "for i in range(len(df)):\n",
    "    int_x.append(df['intercept_coord'][i][0])\n",
    "    int_y.append(df['intercept_coord'][i][1])\n",
    "\n",
    "    \n",
    "base_x = []\n",
    "base_y = []\n",
    "\n",
    "for i in [2,3,4,5,1]:\n",
    "    base_x.append(field_coord[i][0])\n",
    "    base_y.append(field_coord[i][1])"
   ]
  },
  {
   "cell_type": "code",
   "execution_count": 78,
   "metadata": {},
   "outputs": [
    {
     "data": {
      "image/png": "[encoded data removed]",
      "text/plain": [
       "<Figure size 432x288 with 1 Axes>"
      ]
     },
     "metadata": {
      "needs_background": "light"
     },
     "output_type": "display_data"
    }
   ],
   "source": [
    "#x1,y1 = np.random.normal(loc=0.0, scale=1.0, size=(100,)), np.random.normal(loc=2.0, scale=1.0, size=(100,))\n",
    "#x2,y2 = np.random.normal(loc=2., scale=1.0, size=(100,)), np.random.normal(loc=0.0, scale=1.0, size=(100,))\n",
    "\n",
    "fig, ax = plt.subplots()\n",
    "fig_dims = (500, 600)\n",
    "sns.kdeplot(df['player_x'],df['player_y'], shade=True, shade_lowest=False, alpha=0.5, cbar=False, ax=ax, cmap=\"YlGn\")\n",
    "sns.kdeplot(int_x,int_y, shade=True, shade_lowest=False, alpha=0.5, cbar=False, ax=ax, cmap=\"Oranges\")\n",
    "sns.kdeplot(df['landing_location_x'],df['landing_location_y'], shade=True, shade_lowest=False, alpha=0.5, cbar=False, ax=ax, cmap=\"mako\")\n",
    "ax.scatter(bunt['landing_location_x'],bunt['landing_location_y'], color=\"red\", s=5)\n",
    "#ax.scatter(df['landing_location_x'],df['landing_location_y'], color=\"blue\", s=5)\n",
    "ax.scatter(base_x,base_y, color=\"black\", s=20, marker='D')\n",
    "#ax.scatter(df['landing_location_x'],df['landing_location_y'], color=\"red\", s=5)\n",
    "plt.show()\n",
    "#ax.scatter(x2,y2, color=\"C1\")"
   ]
  },
  {
   "cell_type": "code",
   "execution_count": 125,
   "metadata": {},
   "outputs": [
    {
     "name": "stderr",
     "output_type": "stream",
     "text": [
      "No handles with labels found to put in legend.\n"
     ]
    },
    {
     "data": {
      "image/png": "[encoded data removed]",
      "text/plain": [
       "<Figure size 432x288 with 1 Axes>"
      ]
     },
     "metadata": {
      "needs_background": "light"
     },
     "output_type": "display_data"
    }
   ],
   "source": [
    "#just a heatmap and scatter plot of where our SS catches were\n",
    "\n",
    "\n",
    "fig, ax = plt.subplots()\n",
    "fig_dims = (500, 500)\n",
    "sns.kdeplot(df['player_x'],df['player_y'], shade=True, shade_lowest=False, alpha=0.9, cbar=False, ax=ax, cmap=\"YlOrBr\")\n",
    "#sns.kdeplot(int_x,int_y, shade=True, shade_lowest=False, alpha=0.5, cbar=False, ax=ax, cmap=\"Oranges\")\n",
    "#sns.kdeplot(df['landing_location_x'],df['landing_location_y'], shade=True, shade_lowest=False, alpha=0.5, cbar=False, ax=ax, cmap=\"mako\")\n",
    "ax.scatter(bunt['landing_location_x'],bunt['landing_location_y'], color=\"red\", s=5)\n",
    "ax.scatter(df[df['filter']==1]['int_x'],df[df['filter']==1]['int_y'],color=\"g\",marker = 'o', s=5)\n",
    "ax.scatter(df[df['filter']==0]['int_x'],df[df['filter']==0]['int_y'],color=\"b\",marker='x', s=5)\n",
    "#ax.scatter(df['landing_location_x'],df['landing_location_y'], color=\"blue\", s=5)\n",
    "ax.scatter(base_x,base_y, color=\"black\", s=40, marker='D')\n",
    "plt.legend()\n",
    "plt.xlabel('x coordinates')\n",
    "plt.ylabel('y coordinate')\n",
    "#plt.plot([0, -75], [0,73], 'k-')\n",
    "#plt.plot([0, 75], [0,73], 'k-')\n",
    "#ax.scatter(df['landing_location_x'],df['landing_location_y'], color=\"red\", s=5)\n",
    "plt.savefig('visual.png', bbox_inches='tight', dpi=500)\n",
    "plt.show()\n",
    "#plt.savefig('visual.png', bbox_inches='tight')\n",
    "#ax.scatter(x2,y2, color=\"C1\")"
   ]
  },
  {
   "cell_type": "code",
   "execution_count": 82,
   "metadata": {},
   "outputs": [
    {
     "data": {
      "text/plain": [
       "0         (-16.48510266648072, 74.76567136173855)\n",
       "1         (-25.32137801005859, 73.69131028235422)\n",
       "2         (-23.45501116419984, 87.76117032403721)\n",
       "3        (-31.686532465234066, 82.07090527938193)\n",
       "4         (-25.73522977876919, 78.87751676085736)\n",
       "                          ...                    \n",
       "4716     (-26.528433812400667, 86.58966144283444)\n",
       "4717     (-13.838338156319196, 74.08779956827132)\n",
       "4718     (-25.008806403208013, 71.40939401357383)\n",
       "4719     (-30.804368202847773, 82.66956573024969)\n",
       "4720    (-14.312948637999742, 100.96767312626602)\n",
       "Name: intercept_coord, Length: 4721, dtype: object"
      ]
     },
     "execution_count": 82,
     "metadata": {},
     "output_type": "execute_result"
    }
   ],
   "source": [
    "df['intercept_coord']"
   ]
  },
  {
   "cell_type": "code",
   "execution_count": 83,
   "metadata": {},
   "outputs": [],
   "source": [
    "#splitting our intercept point coordinate\n",
    "\n",
    "int_x = []\n",
    "int_y = []\n",
    "\n",
    "for i in range(len(df)):\n",
    "    int_x.append(df['intercept_coord'][i][0])\n",
    "    int_y.append(df['intercept_coord'][i][1])\n",
    "    \n",
    "df['int_x'] = int_x\n",
    "df['int_y'] = int_y"
   ]
  },
  {
   "cell_type": "code",
   "execution_count": 88,
   "metadata": {},
   "outputs": [],
   "source": [
    "res = []\n",
    "for i in range(len(df)):\n",
    "    if df['fielded_scoring'][i] == 'f_putout' or df['fielded_scoring'][i] == 'f_assist':\n",
    "        res.append(1)\n",
    "    else:\n",
    "        res.append(0)"
   ]
  },
  {
   "cell_type": "code",
   "execution_count": 90,
   "metadata": {},
   "outputs": [],
   "source": [
    "df['filter'] = res"
   ]
  },
  {
   "cell_type": "code",
   "execution_count": 92,
   "metadata": {},
   "outputs": [
    {
     "data": {
      "text/plain": [
       "0      -16.485103\n",
       "2      -23.455011\n",
       "3      -31.686532\n",
       "4      -25.735230\n",
       "5       -4.452369\n",
       "          ...    \n",
       "4714   -25.256887\n",
       "4715    17.117707\n",
       "4717   -13.838338\n",
       "4718   -25.008806\n",
       "4720   -14.312949\n",
       "Name: int_x, Length: 4110, dtype: float64"
      ]
     },
     "execution_count": 92,
     "metadata": {},
     "output_type": "execute_result"
    }
   ],
   "source": [
    "df[df['filter']==1]['int_x']"
   ]
  },
  {
   "cell_type": "code",
   "execution_count": null,
   "metadata": {},
   "outputs": [],
   "source": []
  }
 ],
 "metadata": {
  "kernelspec": {
   "display_name": "Python 3.7.4 64-bit (conda)",
   "language": "python",
   "name": "python37464bitconda4c9724765d474f6eb04565ac24f2582d"
  },
  "language_info": {
   "codemirror_mode": {
    "name": "ipython",
    "version": 3
   },
   "file_extension": ".py",
   "mimetype": "text/x-python",
   "name": "python",
   "nbconvert_exporter": "python",
   "pygments_lexer": "ipython3",
   "version": "3.7.4"
  }
 },
 "nbformat": 4,
 "nbformat_minor": 4
}
